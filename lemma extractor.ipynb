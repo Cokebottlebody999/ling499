{
 "cells": [
  {
   "cell_type": "code",
   "execution_count": 49,
   "metadata": {},
   "outputs": [
    {
     "name": "stdout",
     "output_type": "stream",
     "text": [
      "              0\n",
      "0            be\n",
      "1          have\n",
      "2            do\n",
      "3           say\n",
      "4          will\n",
      "5         would\n",
      "6            go\n",
      "7          make\n",
      "8          know\n",
      "9           see\n",
      "10         come\n",
      "11          can\n",
      "12        could\n",
      "13         take\n",
      "14          get\n",
      "15        think\n",
      "16         look\n",
      "17         give\n",
      "18         tell\n",
      "19         find\n",
      "20          may\n",
      "21       should\n",
      "22         must\n",
      "23         want\n",
      "24         seem\n",
      "25        might\n",
      "26          ask\n",
      "27         feel\n",
      "28        leave\n",
      "29         call\n",
      "..          ...\n",
      "470        wrap\n",
      "471     perform\n",
      "472       react\n",
      "473     mistake\n",
      "474      desire\n",
      "475        slam\n",
      "476      divide\n",
      "477        urge\n",
      "478        dost\n",
      "479     suspect\n",
      "480     stumble\n",
      "481        suit\n",
      "482         sob\n",
      "483      reveal\n",
      "484  accomplish\n",
      "485     reflect\n",
      "486     venture\n",
      "487      hasten\n",
      "488        quit\n",
      "489       grunt\n",
      "490      rejoin\n",
      "491     command\n",
      "492        roar\n",
      "493         sez\n",
      "494       sense\n",
      "495       await\n",
      "496       stoop\n",
      "497    preserve\n",
      "498          ez\n",
      "499     trouble\n",
      "\n",
      "[500 rows x 1 columns]\n"
     ]
    }
   ],
   "source": [
    "import pandas as pd\n",
    "a = pd.read_csv(\"top500verbs.csv\", header=None)\n",
    "a[0] = a[0].str.slice(2,-2)\n",
    "a[0] = a[0].str.lower()\n",
    "print(a)\n",
    "a.to_csv(\"top500verbslemma.csv\",  encoding='utf-8', index=False, header=False)"
   ]
  },
  {
   "cell_type": "code",
   "execution_count": 40,
   "metadata": {},
   "outputs": [],
   "source": []
  },
  {
   "cell_type": "code",
   "execution_count": null,
   "metadata": {},
   "outputs": [],
   "source": []
  }
 ],
 "metadata": {
  "kernelspec": {
   "display_name": "Python 3",
   "language": "python",
   "name": "python3"
  },
  "language_info": {
   "codemirror_mode": {
    "name": "ipython",
    "version": 3
   },
   "file_extension": ".py",
   "mimetype": "text/x-python",
   "name": "python",
   "nbconvert_exporter": "python",
   "pygments_lexer": "ipython3",
   "version": "3.5.2"
  }
 },
 "nbformat": 4,
 "nbformat_minor": 2
}

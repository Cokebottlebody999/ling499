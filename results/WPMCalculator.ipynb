{
 "cells": [
  {
   "cell_type": "code",
   "execution_count": 16,
   "metadata": {},
   "outputs": [],
   "source": [
    "import datetime\n",
    "import pandas as pd\n",
    "import numpy as np"
   ]
  },
  {
   "cell_type": "code",
   "execution_count": 44,
   "metadata": {},
   "outputs": [],
   "source": [
    "word = \"GRANT\"\n",
    "a = pd.read_csv(word + \"1820-2000results.csv\")\n",
    "a[\"wpm\"] = (a[\"sum\"] * 1000000) / 114000000\n",
    "b = a.copy()\n",
    "c = a.copy()\n",
    "b = b[b.wpm >= .05]\n",
    "c = c[c.wpm < .05]\n",
    "b.to_csv(word + \".GT.05.csv\", encoding='utf-8', index=False)\n",
    "c.to_csv(word + \".LT.05.csv\", encoding='utf-8', index=False)"
   ]
  },
  {
   "cell_type": "code",
   "execution_count": null,
   "metadata": {},
   "outputs": [],
   "source": []
  }
 ],
 "metadata": {
  "kernelspec": {
   "display_name": "Python 3",
   "language": "python",
   "name": "python3"
  },
  "language_info": {
   "codemirror_mode": {
    "name": "ipython",
    "version": 3
   },
   "file_extension": ".py",
   "mimetype": "text/x-python",
   "name": "python",
   "nbconvert_exporter": "python",
   "pygments_lexer": "ipython3",
   "version": "3.5.2"
  }
 },
 "nbformat": 4,
 "nbformat_minor": 2
}

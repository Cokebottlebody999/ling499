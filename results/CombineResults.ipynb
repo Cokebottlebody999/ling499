{
 "cells": [
  {
   "cell_type": "code",
   "execution_count": 2,
   "metadata": {},
   "outputs": [],
   "source": [
    "import datetime\n",
    "import pandas as pd\n",
    "import numpy as np"
   ]
  },
  {
   "cell_type": "code",
   "execution_count": 6,
   "metadata": {},
   "outputs": [
    {
     "ename": "NameError",
     "evalue": "name 'lemma' is not defined",
     "output_type": "error",
     "traceback": [
      "\u001b[0;31m---------------------------------------------------------------------------\u001b[0m",
      "\u001b[0;31mNameError\u001b[0m                                 Traceback (most recent call last)",
      "\u001b[0;32m<ipython-input-6-9399aeeb16bf>\u001b[0m in \u001b[0;36m<module>\u001b[0;34m\u001b[0m\n\u001b[1;32m     18\u001b[0m \u001b[0msort\u001b[0m \u001b[0;34m=\u001b[0m \u001b[0mresults\u001b[0m\u001b[0;34m.\u001b[0m\u001b[0msort_values\u001b[0m\u001b[0;34m(\u001b[0m\u001b[0mby\u001b[0m\u001b[0;34m=\u001b[0m\u001b[0;34m[\u001b[0m\u001b[0;34m'sum'\u001b[0m\u001b[0;34m]\u001b[0m\u001b[0;34m,\u001b[0m \u001b[0mascending\u001b[0m\u001b[0;34m=\u001b[0m\u001b[0;32mFalse\u001b[0m\u001b[0;34m)\u001b[0m\u001b[0;34m\u001b[0m\u001b[0m\n\u001b[1;32m     19\u001b[0m \u001b[0msort\u001b[0m\u001b[0;34m\u001b[0m\u001b[0m\n\u001b[0;32m---> 20\u001b[0;31m \u001b[0msort\u001b[0m\u001b[0;34m[\u001b[0m\u001b[0;34m'lemma'\u001b[0m\u001b[0;34m]\u001b[0m \u001b[0;34m=\u001b[0m \u001b[0;34m\"[\"\u001b[0m \u001b[0;34m+\u001b[0m \u001b[0mstr\u001b[0m\u001b[0;34m(\u001b[0m\u001b[0msort\u001b[0m\u001b[0;34m[\u001b[0m\u001b[0mlemma\u001b[0m\u001b[0;34m]\u001b[0m\u001b[0;34m)\u001b[0m\u001b[0;34m.\u001b[0m\u001b[0mupper\u001b[0m \u001b[0;34m+\u001b[0m \u001b[0;34m\"]\"\u001b[0m\u001b[0;34m\u001b[0m\u001b[0m\n\u001b[0m",
      "\u001b[0;31mNameError\u001b[0m: name 'lemma' is not defined"
     ]
    }
   ],
   "source": [
    "years = [1820, 1830, 1840, 1850, 1860, 1870]\n",
    "genre = [\"FIC\", \"NF\", \"MAG\"]\n",
    "d = pd.DataFrame()\n",
    "results = pd.DataFrame()\n",
    "results['lemma'] = []\n",
    "for i in years:\n",
    "    a = pd.read_csv(\"make\" + str(i) + \"FIC.csv\")\n",
    "    b = pd.read_csv(\"make\" + str(i) + \"NF.csv\")\n",
    "    c = pd.read_csv(\"make\" + str(i) + \"MAG.csv\")\n",
    "    d = a.merge(b, on = [\"lemma\"], how='outer').merge(c, on = [\"lemma\"], how='outer')\n",
    "    d[['count_x','count_y', 'count']] = d[['count_x','count_y', 'count']].fillna(0)\n",
    "    d[str(i)] = d['count_x'] + d['count_y'] + d['count']\n",
    "    d = d.drop([\"count_x\", \"count_y\", \"count\"],axis=1)\n",
    "    d = d.dropna(subset=['lemma'])\n",
    "    results = results.merge(d, on = [\"lemma\"], how='outer')\n",
    "results = results.fillna(0)\n",
    "results[\"sum\"] = results.sum(axis=1)\n",
    "sort = results.sort_values(by=['sum'], ascending=False)\n",
    "sort\n",
    "sort['lemma'] = \"[\" + str(sort[lemma]).upper + \"]\""
   ]
  },
  {
   "cell_type": "code",
   "execution_count": null,
   "metadata": {},
   "outputs": [],
   "source": [
    "sort.to_csv(\"results.csv\", encoding='utf-8', index=False)"
   ]
  }
 ],
 "metadata": {
  "kernelspec": {
   "display_name": "Python 3",
   "language": "python",
   "name": "python3"
  },
  "language_info": {
   "codemirror_mode": {
    "name": "ipython",
    "version": 3
   },
   "file_extension": ".py",
   "mimetype": "text/x-python",
   "name": "python",
   "nbconvert_exporter": "python",
   "pygments_lexer": "ipython3",
   "version": "3.5.2"
  }
 },
 "nbformat": 4,
 "nbformat_minor": 2
}
